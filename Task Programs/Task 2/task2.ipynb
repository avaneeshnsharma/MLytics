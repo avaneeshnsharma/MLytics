{
 "cells": [
  {
   "cell_type": "code",
   "execution_count": 1,
   "id": "8e3e172c-2e1f-483c-a882-8071f7c34bc7",
   "metadata": {},
   "outputs": [],
   "source": [
    "import pandas as pd\n",
    "import numpy as np\n",
    "from sklearn.model_selection import train_test_split\n",
    "import matplotlib.pyplot as plt"
   ]
  },
  {
   "cell_type": "code",
   "execution_count": 2,
   "id": "aee7a849-c9f5-4049-b23d-8da06594ed4d",
   "metadata": {},
   "outputs": [
    {
     "data": {
      "text/html": [
       "<div>\n",
       "<style scoped>\n",
       "    .dataframe tbody tr th:only-of-type {\n",
       "        vertical-align: middle;\n",
       "    }\n",
       "\n",
       "    .dataframe tbody tr th {\n",
       "        vertical-align: top;\n",
       "    }\n",
       "\n",
       "    .dataframe thead th {\n",
       "        text-align: right;\n",
       "    }\n",
       "</style>\n",
       "<table border=\"1\" class=\"dataframe\">\n",
       "  <thead>\n",
       "    <tr style=\"text-align: right;\">\n",
       "      <th></th>\n",
       "      <th>Salary</th>\n",
       "      <th>Job Satisfaction</th>\n",
       "      <th>Years of Experience</th>\n",
       "      <th>Employment Status</th>\n",
       "    </tr>\n",
       "  </thead>\n",
       "  <tbody>\n",
       "    <tr>\n",
       "      <th>0</th>\n",
       "      <td>56.217808</td>\n",
       "      <td>2.666196</td>\n",
       "      <td>7</td>\n",
       "      <td>stay</td>\n",
       "    </tr>\n",
       "    <tr>\n",
       "      <th>1</th>\n",
       "      <td>96.550001</td>\n",
       "      <td>5.877109</td>\n",
       "      <td>3</td>\n",
       "      <td>stay</td>\n",
       "    </tr>\n",
       "    <tr>\n",
       "      <th>2</th>\n",
       "      <td>81.239576</td>\n",
       "      <td>8.856513</td>\n",
       "      <td>14</td>\n",
       "      <td>stay</td>\n",
       "    </tr>\n",
       "    <tr>\n",
       "      <th>3</th>\n",
       "      <td>71.906094</td>\n",
       "      <td>7.590024</td>\n",
       "      <td>10</td>\n",
       "      <td>stay</td>\n",
       "    </tr>\n",
       "    <tr>\n",
       "      <th>4</th>\n",
       "      <td>40.921305</td>\n",
       "      <td>8.259050</td>\n",
       "      <td>16</td>\n",
       "      <td>stay</td>\n",
       "    </tr>\n",
       "    <tr>\n",
       "      <th>...</th>\n",
       "      <td>...</td>\n",
       "      <td>...</td>\n",
       "      <td>...</td>\n",
       "      <td>...</td>\n",
       "    </tr>\n",
       "    <tr>\n",
       "      <th>995</th>\n",
       "      <td>36.410745</td>\n",
       "      <td>6.912596</td>\n",
       "      <td>19</td>\n",
       "      <td>leave</td>\n",
       "    </tr>\n",
       "    <tr>\n",
       "      <th>996</th>\n",
       "      <td>94.211950</td>\n",
       "      <td>9.609532</td>\n",
       "      <td>1</td>\n",
       "      <td>stay</td>\n",
       "    </tr>\n",
       "    <tr>\n",
       "      <th>997</th>\n",
       "      <td>39.577304</td>\n",
       "      <td>1.620622</td>\n",
       "      <td>7</td>\n",
       "      <td>leave</td>\n",
       "    </tr>\n",
       "    <tr>\n",
       "      <th>998</th>\n",
       "      <td>96.516615</td>\n",
       "      <td>1.513492</td>\n",
       "      <td>17</td>\n",
       "      <td>stay</td>\n",
       "    </tr>\n",
       "    <tr>\n",
       "      <th>999</th>\n",
       "      <td>61.220404</td>\n",
       "      <td>3.539684</td>\n",
       "      <td>3</td>\n",
       "      <td>stay</td>\n",
       "    </tr>\n",
       "  </tbody>\n",
       "</table>\n",
       "<p>1000 rows × 4 columns</p>\n",
       "</div>"
      ],
      "text/plain": [
       "        Salary  Job Satisfaction  Years of Experience Employment Status\n",
       "0    56.217808          2.666196                    7              stay\n",
       "1    96.550001          5.877109                    3              stay\n",
       "2    81.239576          8.856513                   14              stay\n",
       "3    71.906094          7.590024                   10              stay\n",
       "4    40.921305          8.259050                   16              stay\n",
       "..         ...               ...                  ...               ...\n",
       "995  36.410745          6.912596                   19             leave\n",
       "996  94.211950          9.609532                    1              stay\n",
       "997  39.577304          1.620622                    7             leave\n",
       "998  96.516615          1.513492                   17              stay\n",
       "999  61.220404          3.539684                    3              stay\n",
       "\n",
       "[1000 rows x 4 columns]"
      ]
     },
     "execution_count": 2,
     "metadata": {},
     "output_type": "execute_result"
    }
   ],
   "source": [
    "df = pd.read_csv('employee_data.csv')\n",
    "df"
   ]
  },
  {
   "cell_type": "code",
   "execution_count": 3,
   "id": "7b60aa27-c0d0-4197-a824-954aa6a56c07",
   "metadata": {},
   "outputs": [
    {
     "data": {
      "text/plain": [
       "array([1, 0])"
      ]
     },
     "execution_count": 3,
     "metadata": {},
     "output_type": "execute_result"
    }
   ],
   "source": [
    "from sklearn.preprocessing import LabelEncoder\n",
    "label_encoder = LabelEncoder()  \n",
    "df1 = df.copy()\n",
    "# Encode labels in column 'Employment Status' to 0 and 1. \n",
    "df1['Employment Status']= label_encoder.fit_transform(df1['Employment Status']) \n",
    "df1['Employment Status'].unique() "
   ]
  },
  {
   "cell_type": "code",
   "execution_count": 4,
   "id": "728bbb54-765a-4dcc-9255-003ac6104030",
   "metadata": {},
   "outputs": [
    {
     "name": "stdout",
     "output_type": "stream",
     "text": [
      "Dataset with encoded 'Employment Status column\n"
     ]
    },
    {
     "data": {
      "text/html": [
       "<div>\n",
       "<style scoped>\n",
       "    .dataframe tbody tr th:only-of-type {\n",
       "        vertical-align: middle;\n",
       "    }\n",
       "\n",
       "    .dataframe tbody tr th {\n",
       "        vertical-align: top;\n",
       "    }\n",
       "\n",
       "    .dataframe thead th {\n",
       "        text-align: right;\n",
       "    }\n",
       "</style>\n",
       "<table border=\"1\" class=\"dataframe\">\n",
       "  <thead>\n",
       "    <tr style=\"text-align: right;\">\n",
       "      <th></th>\n",
       "      <th>Salary</th>\n",
       "      <th>Job Satisfaction</th>\n",
       "      <th>Years of Experience</th>\n",
       "      <th>Employment Status</th>\n",
       "    </tr>\n",
       "  </thead>\n",
       "  <tbody>\n",
       "    <tr>\n",
       "      <th>0</th>\n",
       "      <td>56.217808</td>\n",
       "      <td>2.666196</td>\n",
       "      <td>7</td>\n",
       "      <td>1</td>\n",
       "    </tr>\n",
       "    <tr>\n",
       "      <th>1</th>\n",
       "      <td>96.550001</td>\n",
       "      <td>5.877109</td>\n",
       "      <td>3</td>\n",
       "      <td>1</td>\n",
       "    </tr>\n",
       "    <tr>\n",
       "      <th>2</th>\n",
       "      <td>81.239576</td>\n",
       "      <td>8.856513</td>\n",
       "      <td>14</td>\n",
       "      <td>1</td>\n",
       "    </tr>\n",
       "    <tr>\n",
       "      <th>3</th>\n",
       "      <td>71.906094</td>\n",
       "      <td>7.590024</td>\n",
       "      <td>10</td>\n",
       "      <td>1</td>\n",
       "    </tr>\n",
       "    <tr>\n",
       "      <th>4</th>\n",
       "      <td>40.921305</td>\n",
       "      <td>8.259050</td>\n",
       "      <td>16</td>\n",
       "      <td>1</td>\n",
       "    </tr>\n",
       "    <tr>\n",
       "      <th>...</th>\n",
       "      <td>...</td>\n",
       "      <td>...</td>\n",
       "      <td>...</td>\n",
       "      <td>...</td>\n",
       "    </tr>\n",
       "    <tr>\n",
       "      <th>995</th>\n",
       "      <td>36.410745</td>\n",
       "      <td>6.912596</td>\n",
       "      <td>19</td>\n",
       "      <td>0</td>\n",
       "    </tr>\n",
       "    <tr>\n",
       "      <th>996</th>\n",
       "      <td>94.211950</td>\n",
       "      <td>9.609532</td>\n",
       "      <td>1</td>\n",
       "      <td>1</td>\n",
       "    </tr>\n",
       "    <tr>\n",
       "      <th>997</th>\n",
       "      <td>39.577304</td>\n",
       "      <td>1.620622</td>\n",
       "      <td>7</td>\n",
       "      <td>0</td>\n",
       "    </tr>\n",
       "    <tr>\n",
       "      <th>998</th>\n",
       "      <td>96.516615</td>\n",
       "      <td>1.513492</td>\n",
       "      <td>17</td>\n",
       "      <td>1</td>\n",
       "    </tr>\n",
       "    <tr>\n",
       "      <th>999</th>\n",
       "      <td>61.220404</td>\n",
       "      <td>3.539684</td>\n",
       "      <td>3</td>\n",
       "      <td>1</td>\n",
       "    </tr>\n",
       "  </tbody>\n",
       "</table>\n",
       "<p>1000 rows × 4 columns</p>\n",
       "</div>"
      ],
      "text/plain": [
       "        Salary  Job Satisfaction  Years of Experience  Employment Status\n",
       "0    56.217808          2.666196                    7                  1\n",
       "1    96.550001          5.877109                    3                  1\n",
       "2    81.239576          8.856513                   14                  1\n",
       "3    71.906094          7.590024                   10                  1\n",
       "4    40.921305          8.259050                   16                  1\n",
       "..         ...               ...                  ...                ...\n",
       "995  36.410745          6.912596                   19                  0\n",
       "996  94.211950          9.609532                    1                  1\n",
       "997  39.577304          1.620622                    7                  0\n",
       "998  96.516615          1.513492                   17                  1\n",
       "999  61.220404          3.539684                    3                  1\n",
       "\n",
       "[1000 rows x 4 columns]"
      ]
     },
     "execution_count": 4,
     "metadata": {},
     "output_type": "execute_result"
    }
   ],
   "source": [
    "print(\"Dataset with encoded 'Employment Status column\")\n",
    "df1"
   ]
  },
  {
   "cell_type": "code",
   "execution_count": 5,
   "id": "f63fbb81-e6f3-4484-a8c4-2465590eaa29",
   "metadata": {},
   "outputs": [
    {
     "name": "stdout",
     "output_type": "stream",
     "text": [
      "Employment Status\n",
      "1    803\n",
      "0    197\n",
      "Name: count, dtype: int64\n"
     ]
    },
    {
     "data": {
      "image/png": "[encoded data removed]",
      "text/plain": [
       "<Figure size 640x480 with 1 Axes>"
      ]
     },
     "metadata": {},
     "output_type": "display_data"
    }
   ],
   "source": [
    "import seaborn as sns\n",
    "sns.countplot(data=df1,x=\"Employment Status\",hue=\"Employment Status\")\n",
    "print(df1['Employment Status'].value_counts())"
   ]
  },
  {
   "cell_type": "code",
   "execution_count": 6,
   "id": "dff563f9-95d7-438f-ae66-5e2844f436e0",
   "metadata": {},
   "outputs": [],
   "source": [
    "from sklearn.utils import resample\n",
    "df_majority=df1[(df1['Employment Status']==1)]\n",
    "df_minority=df1[(df1['Employment Status']==0)]\n",
    "df_minority_upsampled=resample(df_minority,n_samples=803,random_state=0)\n",
    "df2=pd.concat([df_minority_upsampled,df_majority])"
   ]
  },
  {
   "cell_type": "code",
   "execution_count": 7,
   "id": "df2cad5d-9089-4b60-a7ec-db0f6cb5d401",
   "metadata": {},
   "outputs": [
    {
     "name": "stdout",
     "output_type": "stream",
     "text": [
      "Employment Status\n",
      "0    803\n",
      "1    803\n",
      "Name: count, dtype: int64\n"
     ]
    },
    {
     "data": {
      "image/png": "[encoded data removed]",
      "text/plain": [
       "<Figure size 640x480 with 1 Axes>"
      ]
     },
     "metadata": {},
     "output_type": "display_data"
    }
   ],
   "source": [
    "sns.countplot(data=df2,x=\"Employment Status\",hue=\"Employment Status\")\n",
    "print(df2['Employment Status'].value_counts())"
   ]
  },
  {
   "cell_type": "code",
   "execution_count": 8,
   "id": "658a680d-3517-42be-a6c1-19bc80601bbc",
   "metadata": {},
   "outputs": [
    {
     "name": "stdout",
     "output_type": "stream",
     "text": [
      "Missing values:\n",
      " Salary                 0\n",
      "Job Satisfaction       0\n",
      "Years of Experience    0\n",
      "Employment Status      0\n",
      "dtype: int64\n"
     ]
    }
   ],
   "source": [
    "#check for missing values\n",
    "print(\"Missing values:\\n\", df2.isnull().sum())"
   ]
  },
  {
   "cell_type": "code",
   "execution_count": 9,
   "id": "a4cdc4ae-db82-4b34-8637-25eeb8fbdb35",
   "metadata": {},
   "outputs": [
    {
     "data": {
      "text/plain": [
       "(1606, 4)"
      ]
     },
     "execution_count": 9,
     "metadata": {},
     "output_type": "execute_result"
    }
   ],
   "source": [
    "#remove outliers \n",
    "z= np.abs((df2 - df2.mean()) / df2.std())\n",
    "data_clean = df2[(z <3).all(axis=1)]\n",
    "data_clean.shape"
   ]
  },
  {
   "cell_type": "code",
   "execution_count": 10,
   "id": "79b393b2-8a59-49f6-9696-f80fcd1f3e1d",
   "metadata": {},
   "outputs": [],
   "source": [
    "X1=data_clean.drop('Employment Status',axis=1)\n",
    "y1=data_clean['Employment Status']"
   ]
  },
  {
   "cell_type": "code",
   "execution_count": 11,
   "id": "8f647617-b84a-4c19-b067-7df71f3c5e7b",
   "metadata": {},
   "outputs": [],
   "source": [
    "X = X1.values\n",
    "y = y1.values"
   ]
  },
  {
   "cell_type": "code",
   "execution_count": 12,
   "id": "983e9257-0265-4e91-bb38-9ddc2f8348f8",
   "metadata": {},
   "outputs": [],
   "source": [
    "from sklearn.model_selection import train_test_split\n",
    "X_train,X_test,y_train,y_test=train_test_split(X,y,test_size=0.2,random_state=1234)"
   ]
  },
  {
   "cell_type": "code",
   "execution_count": 13,
   "id": "19dcecc2-d4c7-4f19-983e-e5761a950915",
   "metadata": {},
   "outputs": [],
   "source": [
    "from collections import Counter\n",
    "\n",
    "class Node:\n",
    "    def __init__(self, feature=None, threshold=None, left=None, right=None,*,value=None):\n",
    "        self.feature = feature\n",
    "        self.threshold = threshold\n",
    "        self.left = left\n",
    "        self.right = right\n",
    "        self.value = value\n",
    "        \n",
    "    def is_leaf_node(self):\n",
    "        return self.value is not None\n",
    "\n",
    "\n",
    "class DecisionTree:\n",
    "    def __init__(self, min_samples_split=2, max_depth=100, n_features=None):\n",
    "        self.min_samples_split=min_samples_split\n",
    "        self.max_depth=max_depth\n",
    "        self.n_features=n_features\n",
    "        self.root=None\n",
    "\n",
    "    def fit(self, X, y):\n",
    "        self.n_features = X.shape[1] if not self.n_features else min(X.shape[1],self.n_features)\n",
    "        self.root = self._grow_tree(X, y)\n",
    "\n",
    "    def _grow_tree(self, X, y, depth=0):\n",
    "        n_samples, n_feats = X.shape\n",
    "        n_labels = len(np.unique(y))\n",
    "\n",
    "        # check the stopping criteria\n",
    "        if (depth>=self.max_depth or n_labels<=1 or n_samples<self.min_samples_split):\n",
    "            leaf_value = self._most_common_label(y)\n",
    "            return Node(value=leaf_value)\n",
    "\n",
    "        feat_idxs = np.random.choice(n_feats, self.n_features, replace=False)\n",
    "\n",
    "        # find the best split\n",
    "        best_feature, best_thresh = self._best_split(X, y, feat_idxs)\n",
    "\n",
    "        # create child nodes\n",
    "        left_idxs, right_idxs = self._split(X[:, best_feature], best_thresh)\n",
    "        left = self._grow_tree(X[left_idxs, :], y[left_idxs], depth+1)\n",
    "        right = self._grow_tree(X[right_idxs, :], y[right_idxs], depth+1)\n",
    "        return Node(best_feature, best_thresh, left, right)\n",
    "\n",
    "\n",
    "    def _best_split(self, X, y, feat_idxs):\n",
    "        best_gain = -1\n",
    "        split_idx, split_threshold = None, None\n",
    "\n",
    "        for feat_idx in feat_idxs:\n",
    "            X_column = X[:, feat_idx]\n",
    "            thresholds = np.unique(X_column)\n",
    "\n",
    "            for thr in thresholds:\n",
    "                # calculate the information gain\n",
    "                gain = self._information_gain(y, X_column, thr)\n",
    "\n",
    "                if gain > best_gain:\n",
    "                    best_gain = gain\n",
    "                    split_idx = feat_idx\n",
    "                    split_threshold = thr\n",
    "\n",
    "        return split_idx, split_threshold\n",
    "\n",
    "\n",
    "    def _information_gain(self, y, X_column, threshold):\n",
    "        # parent entropy\n",
    "        parent_entropy = self._entropy(y)\n",
    "\n",
    "        # create children\n",
    "        left_idxs, right_idxs = self._split(X_column, threshold)\n",
    "\n",
    "        if len(left_idxs) == 0 or len(right_idxs) == 0:\n",
    "            return 0\n",
    "        \n",
    "        # calculate the weighted avg. entropy of children\n",
    "        n = len(y)\n",
    "        n_l, n_r = len(left_idxs), len(right_idxs)\n",
    "        e_l, e_r = self._entropy(y[left_idxs]), self._entropy(y[right_idxs])\n",
    "        child_entropy = (n_l/n) * e_l + (n_r/n) * e_r\n",
    "\n",
    "        # calculate the IG\n",
    "        information_gain = parent_entropy - child_entropy\n",
    "        return information_gain\n",
    "\n",
    "    def _split(self, X_column, split_thresh):\n",
    "        left_idxs = np.argwhere(X_column <= split_thresh).flatten()\n",
    "        right_idxs = np.argwhere(X_column > split_thresh).flatten()\n",
    "        return left_idxs, right_idxs\n",
    "\n",
    "    def _entropy(self, y):\n",
    "        hist = np.bincount(y)\n",
    "        ps = hist / len(y)\n",
    "        return -np.sum([p * np.log(p) for p in ps if p>0])\n",
    "\n",
    "    def _most_common_label(self, y):\n",
    "        counter = Counter(y)\n",
    "        value = counter.most_common(1)[0][0]\n",
    "        return value\n",
    "\n",
    "    def predict(self, X):\n",
    "        return np.array([self._traverse_tree(x, self.root) for x in X])\n",
    "\n",
    "    def _traverse_tree(self, x, node):\n",
    "        if node.is_leaf_node():\n",
    "            return node.value\n",
    "\n",
    "        if x[node.feature] <= node.threshold:\n",
    "            return self._traverse_tree(x, node.left)\n",
    "        return self._traverse_tree(x, node.right)"
   ]
  },
  {
   "cell_type": "code",
   "execution_count": 14,
   "id": "4fadf92b-8879-46d7-8672-dab93463c838",
   "metadata": {},
   "outputs": [],
   "source": [
    "def accuracy(y_test, y_pred):\n",
    "    return np.sum(y_test == y_pred) / len(y_test)"
   ]
  },
  {
   "cell_type": "code",
   "execution_count": 15,
   "id": "81c7c94a-4b7b-48f5-9586-5844ea5cdea0",
   "metadata": {},
   "outputs": [
    {
     "name": "stdout",
     "output_type": "stream",
     "text": [
      "Accuracy: 100.0 %\n"
     ]
    }
   ],
   "source": [
    "clf = DecisionTree()\n",
    "clf.fit(X_train, y_train)\n",
    "predictions = clf.predict(X_test)\n",
    "acc = accuracy(y_test, predictions)\n",
    "print('Accuracy:', round(acc*100,2) ,'%')"
   ]
  },
  {
   "cell_type": "code",
   "execution_count": 16,
   "id": "ac9dae25-3e17-496d-8813-d51c907b0ada",
   "metadata": {},
   "outputs": [
    {
     "name": "stdout",
     "output_type": "stream",
     "text": [
      "The predicted employment status is stay\n"
     ]
    }
   ],
   "source": [
    "# Prepare the input data for prediction\n",
    "new_employee_data = np.array([[75000, 7, 5]])  # Salary, Job Satisfaction, Experience\n",
    "predicted_status = clf.predict(new_employee_data)\n",
    "print(f\"The predicted employment status is {'leave' if predicted_status[0] == 0 else 'stay'}\")"
   ]
  },
  {
   "cell_type": "code",
   "execution_count": 17,
   "id": "b641ead6-bc38-443f-a38a-498eaadb43c7",
   "metadata": {},
   "outputs": [
    {
     "name": "stdout",
     "output_type": "stream",
     "text": [
      "The predicted employment status is leave\n"
     ]
    }
   ],
   "source": [
    "new_employee_data = np.array([[15, 2, 5]])  # Salary, Job Satisfaction, Experience\n",
    "predicted_status = clf.predict(new_employee_data)\n",
    "print(f\"The predicted employment status is {'leave' if predicted_status[0] == 0 else 'stay'}\")"
   ]
  },
  {
   "cell_type": "code",
   "execution_count": 18,
   "id": "883a5bab-8d06-4f8f-a76e-19f9d48df42d",
   "metadata": {},
   "outputs": [
    {
     "name": "stdout",
     "output_type": "stream",
     "text": [
      "The predicted employment status is stay\n"
     ]
    }
   ],
   "source": [
    "new_employee_data = np.array([[75, 2, 5]])  # Salary, Job Satisfaction, Experience\n",
    "predicted_status = clf.predict(new_employee_data)\n",
    "print(f\"The predicted employment status is {'leave' if predicted_status[0] == 0 else 'stay'}\")"
   ]
  },
  {
   "cell_type": "code",
   "execution_count": 19,
   "id": "cf12d235-d8c8-4fe3-8c4d-e24c727dd860",
   "metadata": {},
   "outputs": [
    {
     "data": {
      "image/png": "[encoded data removed]",
      "text/plain": [
       "<Figure size 647.736x500 with 6 Axes>"
      ]
     },
     "metadata": {},
     "output_type": "display_data"
    }
   ],
   "source": [
    "# Filter the dataframe for employees with 5 years of experience\n",
    "filtered_df = data_clean[data_clean['Years of Experience'] == 5]\n",
    "data_df2=filtered_df.drop(columns=['Years of Experience'])\n",
    "sns.pairplot(data_df2, hue='Employment Status')\n",
    "plt.suptitle('Pairplot for Salary vs Job Satisfaction for employees with 5 years of experience', y=1.02)\n",
    "plt.show()"
   ]
  },
  {
   "cell_type": "code",
   "execution_count": null,
   "id": "ef39bf0e-e205-4278-8d14-dd4934179c4b",
   "metadata": {},
   "outputs": [],
   "source": []
  }
 ],
 "metadata": {
  "kernelspec": {
   "display_name": "Python 3 (ipykernel)",
   "language": "python",
   "name": "python3"
  },
  "language_info": {
   "codemirror_mode": {
    "name": "ipython",
    "version": 3
   },
   "file_extension": ".py",
   "mimetype": "text/x-python",
   "name": "python",
   "nbconvert_exporter": "python",
   "pygments_lexer": "ipython3",
   "version": "3.11.5"
  }
 },
 "nbformat": 4,
 "nbformat_minor": 5
}
