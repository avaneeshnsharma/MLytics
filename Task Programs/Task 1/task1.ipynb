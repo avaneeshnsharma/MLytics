{
 "cells": [
  {
   "cell_type": "code",
   "execution_count": 43,
   "id": "b097575b-f0a8-4a9b-9422-3c08c8035c5b",
   "metadata": {},
   "outputs": [],
   "source": [
    "import pandas as pd\n",
    "import matplotlib.pyplot as plt\n",
    "import seaborn as sns\n",
    "import numpy as np\n",
    "sns.set_theme(color_codes = True)"
   ]
  },
  {
   "cell_type": "code",
   "execution_count": 44,
   "id": "7ebbbf1a-5b98-4a3c-b66f-cec30339526c",
   "metadata": {},
   "outputs": [
    {
     "data": {
      "text/html": [
       "<div>\n",
       "<style scoped>\n",
       "    .dataframe tbody tr th:only-of-type {\n",
       "        vertical-align: middle;\n",
       "    }\n",
       "\n",
       "    .dataframe tbody tr th {\n",
       "        vertical-align: top;\n",
       "    }\n",
       "\n",
       "    .dataframe thead th {\n",
       "        text-align: right;\n",
       "    }\n",
       "</style>\n",
       "<table border=\"1\" class=\"dataframe\">\n",
       "  <thead>\n",
       "    <tr style=\"text-align: right;\">\n",
       "      <th></th>\n",
       "      <th>Weight</th>\n",
       "      <th>Horsepower</th>\n",
       "      <th>Number of cylinders</th>\n",
       "      <th>Mileage</th>\n",
       "    </tr>\n",
       "  </thead>\n",
       "  <tbody>\n",
       "    <tr>\n",
       "      <th>0</th>\n",
       "      <td>3123.620357</td>\n",
       "      <td>54.714378</td>\n",
       "      <td>7</td>\n",
       "      <td>-15.987429</td>\n",
       "    </tr>\n",
       "    <tr>\n",
       "      <th>1</th>\n",
       "      <td>4852.142919</td>\n",
       "      <td>145.461562</td>\n",
       "      <td>7</td>\n",
       "      <td>-20.027300</td>\n",
       "    </tr>\n",
       "    <tr>\n",
       "      <th>2</th>\n",
       "      <td>4195.981825</td>\n",
       "      <td>97.153397</td>\n",
       "      <td>6</td>\n",
       "      <td>-12.446144</td>\n",
       "    </tr>\n",
       "    <tr>\n",
       "      <th>3</th>\n",
       "      <td>3795.975453</td>\n",
       "      <td>126.285604</td>\n",
       "      <td>4</td>\n",
       "      <td>-2.016606</td>\n",
       "    </tr>\n",
       "    <tr>\n",
       "      <th>4</th>\n",
       "      <td>2468.055921</td>\n",
       "      <td>186.134971</td>\n",
       "      <td>7</td>\n",
       "      <td>-11.190111</td>\n",
       "    </tr>\n",
       "  </tbody>\n",
       "</table>\n",
       "</div>"
      ],
      "text/plain": [
       "        Weight  Horsepower  Number of cylinders    Mileage\n",
       "0  3123.620357   54.714378                    7 -15.987429\n",
       "1  4852.142919  145.461562                    7 -20.027300\n",
       "2  4195.981825   97.153397                    6 -12.446144\n",
       "3  3795.975453  126.285604                    4  -2.016606\n",
       "4  2468.055921  186.134971                    7 -11.190111"
      ]
     },
     "execution_count": 44,
     "metadata": {},
     "output_type": "execute_result"
    }
   ],
   "source": [
    "df = pd.read_csv('car_data.csv')\n",
    "data.head()"
   ]
  },
  {
   "cell_type": "code",
   "execution_count": 45,
   "id": "335ded2d-2162-481a-9c0a-fa478f808c65",
   "metadata": {},
   "outputs": [
    {
     "data": {
      "text/plain": [
       "Weight                 0\n",
       "Horsepower             0\n",
       "Number of cylinders    0\n",
       "Mileage                0\n",
       "dtype: int64"
      ]
     },
     "execution_count": 45,
     "metadata": {},
     "output_type": "execute_result"
    }
   ],
   "source": [
    "data.isnull().sum()"
   ]
  },
  {
   "cell_type": "code",
   "execution_count": 46,
   "id": "974a405e-2920-4c2b-98da-26dcecba386e",
   "metadata": {},
   "outputs": [
    {
     "data": {
      "text/plain": [
       "<Axes: xlabel='Weight'>"
      ]
     },
     "execution_count": 46,
     "metadata": {},
     "output_type": "execute_result"
    },
    {
     "data": {
      "image/png": "[encoded data removed]",
      "text/plain": [
       "<Figure size 640x480 with 1 Axes>"
      ]
     },
     "metadata": {},
     "output_type": "display_data"
    }
   ],
   "source": [
    "sns.boxplot(x=data[\"Weight\"])"
   ]
  },
  {
   "cell_type": "code",
   "execution_count": 47,
   "id": "a907612a-e086-41b3-a5a9-5a4afd9efde7",
   "metadata": {},
   "outputs": [
    {
     "data": {
      "text/plain": [
       "<Axes: xlabel='Horsepower'>"
      ]
     },
     "execution_count": 47,
     "metadata": {},
     "output_type": "execute_result"
    },
    {
     "data": {
      "image/png": "[encoded data removed]",
      "text/plain": [
       "<Figure size 640x480 with 1 Axes>"
      ]
     },
     "metadata": {},
     "output_type": "display_data"
    }
   ],
   "source": [
    "sns.boxplot(x=data[\"Horsepower\"])"
   ]
  },
  {
   "cell_type": "code",
   "execution_count": 48,
   "id": "03c1ac28-947e-481d-9e68-3d6589fb28d5",
   "metadata": {},
   "outputs": [
    {
     "data": {
      "text/plain": [
       "<Axes: xlabel='Mileage'>"
      ]
     },
     "execution_count": 48,
     "metadata": {},
     "output_type": "execute_result"
    },
    {
     "data": {
      "image/png": "[encoded data removed]",
      "text/plain": [
       "<Figure size 640x480 with 1 Axes>"
      ]
     },
     "metadata": {},
     "output_type": "display_data"
    }
   ],
   "source": [
    "\n",
    "sns.boxplot(x=data[\"Mileage\"])\n"
   ]
  },
  {
   "cell_type": "code",
   "execution_count": 49,
   "id": "ddd1b7d5-432a-40df-871b-fe59fe29a221",
   "metadata": {},
   "outputs": [
    {
     "data": {
      "text/html": [
       "<div>\n",
       "<style scoped>\n",
       "    .dataframe tbody tr th:only-of-type {\n",
       "        vertical-align: middle;\n",
       "    }\n",
       "\n",
       "    .dataframe tbody tr th {\n",
       "        vertical-align: top;\n",
       "    }\n",
       "\n",
       "    .dataframe thead th {\n",
       "        text-align: right;\n",
       "    }\n",
       "</style>\n",
       "<table border=\"1\" class=\"dataframe\">\n",
       "  <thead>\n",
       "    <tr style=\"text-align: right;\">\n",
       "      <th></th>\n",
       "      <th>Weight</th>\n",
       "      <th>Horsepower</th>\n",
       "      <th>Number of cylinders</th>\n",
       "      <th>Mileage</th>\n",
       "    </tr>\n",
       "  </thead>\n",
       "  <tbody>\n",
       "    <tr>\n",
       "      <th>0</th>\n",
       "      <td>-0.321493</td>\n",
       "      <td>-1.591213</td>\n",
       "      <td>1.183599</td>\n",
       "      <td>-1.031539</td>\n",
       "    </tr>\n",
       "    <tr>\n",
       "      <th>1</th>\n",
       "      <td>1.615296</td>\n",
       "      <td>0.472785</td>\n",
       "      <td>1.183599</td>\n",
       "      <td>-1.652898</td>\n",
       "    </tr>\n",
       "    <tr>\n",
       "      <th>2</th>\n",
       "      <td>0.880076</td>\n",
       "      <td>-0.625959</td>\n",
       "      <td>0.355907</td>\n",
       "      <td>-0.486866</td>\n",
       "    </tr>\n",
       "    <tr>\n",
       "      <th>3</th>\n",
       "      <td>0.431873</td>\n",
       "      <td>0.036638</td>\n",
       "      <td>-1.299476</td>\n",
       "      <td>1.117266</td>\n",
       "    </tr>\n",
       "    <tr>\n",
       "      <th>4</th>\n",
       "      <td>-1.056045</td>\n",
       "      <td>1.397881</td>\n",
       "      <td>1.183599</td>\n",
       "      <td>-0.293680</td>\n",
       "    </tr>\n",
       "  </tbody>\n",
       "</table>\n",
       "</div>"
      ],
      "text/plain": [
       "     Weight  Horsepower  Number of cylinders   Mileage\n",
       "0 -0.321493   -1.591213             1.183599 -1.031539\n",
       "1  1.615296    0.472785             1.183599 -1.652898\n",
       "2  0.880076   -0.625959             0.355907 -0.486866\n",
       "3  0.431873    0.036638            -1.299476  1.117266\n",
       "4 -1.056045    1.397881             1.183599 -0.293680"
      ]
     },
     "execution_count": 49,
     "metadata": {},
     "output_type": "execute_result"
    }
   ],
   "source": [
    "data_norm = (data - data.mean()) / data.std()\n",
    "data_norm.head()"
   ]
  },
  {
   "cell_type": "code",
   "execution_count": 50,
   "id": "4c720232-8fe6-4340-995f-1fcc013446e3",
   "metadata": {},
   "outputs": [],
   "source": [
    "\n",
    "X = data_norm.drop('Mileage', axis=1)\n",
    "y = data_norm['Mileage']"
   ]
  },
  {
   "cell_type": "code",
   "execution_count": 51,
   "id": "fd9c0209-b2d3-4d35-95e1-a4952251d74e",
   "metadata": {},
   "outputs": [],
   "source": [
    "from sklearn.model_selection import train_test_split\n",
    "X_train, X_test, y_train, y_test = train_test_split(X, y, test_size=0.2, random_state=42)"
   ]
  },
  {
   "cell_type": "code",
   "execution_count": 52,
   "id": "122d4bf3-149d-4c2b-951d-70d38e822222",
   "metadata": {},
   "outputs": [],
   "source": [
    "def hypothesis(X, theta):\n",
    "    return np.dot(X, theta)"
   ]
  },
  {
   "cell_type": "code",
   "execution_count": 53,
   "id": "d59e3ad9-2b3e-4f46-9a33-9fd476a6d2da",
   "metadata": {},
   "outputs": [],
   "source": [
    "def cost_function(X, y, theta):\n",
    "    m = len(y)\n",
    "    predictions = hypothesis(X, theta)\n",
    "    cost = (1 / (2 * m)) * np.sum(np.square(predictions - y))\n",
    "    return cost"
   ]
  },
  {
   "cell_type": "code",
   "execution_count": 54,
   "id": "e5b1a17e-3714-4b94-84c2-ee8404ccec7c",
   "metadata": {},
   "outputs": [],
   "source": [
    "def gradient_descent(X, y, theta, learning_rate, iterations):\n",
    "    m = len(y)\n",
    "    cost_history = np.zeros(iterations)\n",
    "    for i in range(iterations):\n",
    "        predictions = hypothesis(X, theta)\n",
    "        error = predictions - y\n",
    "        gradient = (1 / m) * np.dot(X.T, error)\n",
    "        theta -= learning_rate * gradient\n",
    "        cost_history[i] = cost_function(X, y, theta)\n",
    "    return theta, cost_history"
   ]
  },
  {
   "cell_type": "code",
   "execution_count": 55,
   "id": "783ca58a-b60f-402c-b885-9fe88c3f4b25",
   "metadata": {},
   "outputs": [],
   "source": [
    "theta = np.zeros(4)\n",
    "learning_rate = 0.01\n",
    "iterations = 1000"
   ]
  },
  {
   "cell_type": "code",
   "execution_count": 56,
   "id": "32054e37-81d1-46a0-b1fa-2cb29bb54953",
   "metadata": {},
   "outputs": [],
   "source": [
    "X_train = np.c_[np.ones(X_train.shape[0]), X_train]"
   ]
  },
  {
   "cell_type": "code",
   "execution_count": 57,
   "id": "a09ca940-cac5-410f-af0e-f67cd896d1f6",
   "metadata": {},
   "outputs": [],
   "source": [
    "theta_final, cost_history = gradient_descent(X_train, y_train, theta, learning_rate, iterations)"
   ]
  },
  {
   "cell_type": "code",
   "execution_count": 58,
   "id": "722101dd-4369-4fe6-8176-48961f9b3708",
   "metadata": {},
   "outputs": [
    {
     "name": "stdout",
     "output_type": "stream",
     "text": [
      "RMSE on training set: 0.860990935863634\n"
     ]
    }
   ],
   "source": [
    "# Calculate RMSE on training set\n",
    "predictions_train = hypothesis(X_train, theta_final)\n",
    "rmse_train = np.sqrt(np.mean(np.square(predictions_train - y_train)))\n",
    "print(\"RMSE on training set:\", rmse_train)"
   ]
  },
  {
   "cell_type": "code",
   "execution_count": 59,
   "id": "c76a366a-9598-482a-8bc6-4b18bc201150",
   "metadata": {},
   "outputs": [],
   "source": [
    "X_test = np.c_[np.ones(X_test.shape[0]), X_test]"
   ]
  },
  {
   "cell_type": "code",
   "execution_count": 60,
   "id": "4dc184bc-efa6-4ef3-a725-170ff14219df",
   "metadata": {},
   "outputs": [
    {
     "name": "stdout",
     "output_type": "stream",
     "text": [
      "RMSE on testing set: 0.5654652566917725\n"
     ]
    }
   ],
   "source": [
    "predictions_test = hypothesis(X_test, theta_final)\n",
    "rmse_test = np.sqrt(np.mean(np.square(predictions_test - y_test)))\n",
    "print(\"RMSE on testing set:\", rmse_test)"
   ]
  },
  {
   "cell_type": "code",
   "execution_count": 61,
   "id": "47d6a9ff-a971-489f-bc79-365334c1d065",
   "metadata": {},
   "outputs": [],
   "source": [
    "new_data_point = np.array([1, 3000, 150, 6])"
   ]
  },
  {
   "cell_type": "code",
   "execution_count": 62,
   "id": "fbf1cf58-01c2-44bb-8171-7fe83125e46e",
   "metadata": {},
   "outputs": [],
   "source": [
    "new_dp = np.array([1, (3000 - df['Weight'].mean()) / df['Weight'].std(),\n",
    "                    (150 - df['Horsepower'].mean()) / df['Horsepower'].std(),\n",
    "                    (6 - df['Number of cylinders'].mean()) / df['Number of cylinders'].std()])"
   ]
  },
  {
   "cell_type": "code",
   "execution_count": 63,
   "id": "b7b79860-0b2f-413e-8ef6-3f0a7c7da457",
   "metadata": {},
   "outputs": [
    {
     "name": "stdout",
     "output_type": "stream",
     "text": [
      "Predicted mileage: -0.06261989474615534\n"
     ]
    }
   ],
   "source": [
    "predicted_mileage = hypothesis(new_dp, theta_final)\n",
    "print(\"Predicted mileage:\", predicted_mileage)"
   ]
  },
  {
   "cell_type": "code",
   "execution_count": 64,
   "id": "beeed338-d644-4ed4-8416-b147ebaf3b84",
   "metadata": {},
   "outputs": [
    {
     "data": {
      "image/png": "[encoded data removed]",
      "text/plain": [
       "<Figure size 600x400 with 1 Axes>"
      ]
     },
     "metadata": {},
     "output_type": "display_data"
    }
   ],
   "source": [
    "plt.figure(figsize=(6, 4))\n",
    "plt.scatter(y_test, predictions_test, color='blue', label='Actual vs Predicted')\n",
    "plt.scatter(y_test, y_test, color='red', label='Reference Line')\n",
    "plt.title('Actual vs Predicted Mileages')\n",
    "plt.xlabel('Actual Mileage')\n",
    "plt.ylabel('Predicted Mileage')\n",
    "plt.legend()\n",
    "plt.show()"
   ]
  },
  {
   "cell_type": "code",
   "execution_count": null,
   "id": "bbb95dbc-57df-437f-b401-f2060d13089f",
   "metadata": {},
   "outputs": [],
   "source": []
  }
 ],
 "metadata": {
  "kernelspec": {
   "display_name": "Python 3 (ipykernel)",
   "language": "python",
   "name": "python3"
  },
  "language_info": {
   "codemirror_mode": {
    "name": "ipython",
    "version": 3
   },
   "file_extension": ".py",
   "mimetype": "text/x-python",
   "name": "python",
   "nbconvert_exporter": "python",
   "pygments_lexer": "ipython3",
   "version": "3.12.2"
  }
 },
 "nbformat": 4,
 "nbformat_minor": 5
}
